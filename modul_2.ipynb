{
 "cells": [
  {
   "cell_type": "code",
   "execution_count": 151,
   "metadata": {},
   "outputs": [],
   "source": [
    "import numpy as np\n",
    "import matplotlib.pyplot as plt\n",
    "import sympy as sp\n",
    "sp.init_printing(use_unicode=True)"
   ]
  },
  {
   "cell_type": "markdown",
   "metadata": {},
   "source": [
    "# Matrix Variansi dan Matrix Regresi"
   ]
  },
  {
   "cell_type": "code",
   "execution_count": 37,
   "metadata": {},
   "outputs": [],
   "source": [
    "# create matrix covariance function\n",
    "def matrix_variansi(mat):\n",
    "    nrow = mat.shape[0]\n",
    "    ncol = mat.shape[1]\n",
    "    row_means = mat.mean(axis=1)[:, np.newaxis] \n",
    "    s_mat = np.zeros((nrow, nrow))\n",
    "    A = mat-row_means\n",
    "    for row1 in range(nrow):\n",
    "        for row2 in range(nrow):\n",
    "            s_mat[row1,row2]= (np.sum(A[row1,:]*A[row2,:]))/ncol\n",
    "            \n",
    "    return s_mat"
   ]
  },
  {
   "cell_type": "code",
   "execution_count": 32,
   "metadata": {},
   "outputs": [
    {
     "data": {
      "text/plain": [
       "array([[ 1.  , -0.87,  0.  ],\n",
       "       [-0.87,  1.  ,  0.5 ],\n",
       "       [ 0.  ,  0.5 ,  1.  ]])"
      ]
     },
     "execution_count": 32,
     "metadata": {},
     "output_type": "execute_result"
    }
   ],
   "source": [
    "# create matrix r correlation function\n",
    "def matrix_r(mat):\n",
    "    nrow = mat.shape[0]\n",
    "    mat_var = matrix_variansi(mat)\n",
    "    r_mat = np.zeros((nrow, nrow))\n",
    "    for row in range(nrow):\n",
    "        for col in range(nrow):\n",
    "            r_mat[row,col] = (mat_var[row,col])/((np.sqrt(mat_var[row,row]))*(np.sqrt(mat_var[col,col])))\n",
    "            r_mat[row,col] = np.round(r_mat[row,col],2)\n",
    "    return r_mat"
   ]
  },
  {
   "cell_type": "code",
   "execution_count": 39,
   "metadata": {},
   "outputs": [],
   "source": [
    "mat_modul_2_contoh_2_2 = np.array([[1,4,4],\n",
    "                [2,1,0],\n",
    "                [5,6,4]])\n"
   ]
  },
  {
   "cell_type": "code",
   "execution_count": 40,
   "metadata": {},
   "outputs": [
    {
     "data": {
      "text/plain": [
       "array([[ 2.        , -1.        ,  0.        ],\n",
       "       [-1.        ,  0.66666667,  0.33333333],\n",
       "       [ 0.        ,  0.33333333,  0.66666667]])"
      ]
     },
     "execution_count": 40,
     "metadata": {},
     "output_type": "execute_result"
    }
   ],
   "source": [
    "matrix_variansi(mat=mat_modul_2_contoh_2_2)"
   ]
  },
  {
   "cell_type": "code",
   "execution_count": 41,
   "metadata": {},
   "outputs": [
    {
     "data": {
      "text/plain": [
       "array([[ 1.  , -0.87,  0.  ],\n",
       "       [-0.87,  1.  ,  0.5 ],\n",
       "       [ 0.  ,  0.5 ,  1.  ]])"
      ]
     },
     "execution_count": 41,
     "metadata": {},
     "output_type": "execute_result"
    }
   ],
   "source": [
    "matrix_r(mat=mat_modul_2_contoh_2_2)"
   ]
  },
  {
   "cell_type": "code",
   "execution_count": null,
   "metadata": {},
   "outputs": [],
   "source": [
    "mat_modul_2_tesformatif_1_no_1 = np.array([[42,52,48,58],\n",
    "                                          [4,5,4,3]])"
   ]
  },
  {
   "cell_type": "code",
   "execution_count": 42,
   "metadata": {},
   "outputs": [
    {
     "data": {
      "text/plain": [
       "array([[34. , -1.5],\n",
       "       [-1.5,  0.5]])"
      ]
     },
     "execution_count": 42,
     "metadata": {},
     "output_type": "execute_result"
    }
   ],
   "source": [
    "matrix_variansi(mat=mat_modul_2_tesformatif_1_no_1)"
   ]
  },
  {
   "cell_type": "code",
   "execution_count": 43,
   "metadata": {},
   "outputs": [
    {
     "data": {
      "text/plain": [
       "array([[ 1.  , -0.36],\n",
       "       [-0.36,  1.  ]])"
      ]
     },
     "execution_count": 43,
     "metadata": {},
     "output_type": "execute_result"
    }
   ],
   "source": [
    "matrix_r(mat=mat_modul_2_tesformatif_1_no_1)"
   ]
  },
  {
   "cell_type": "markdown",
   "metadata": {},
   "source": [
    "# Jarak"
   ]
  },
  {
   "cell_type": "code",
   "execution_count": 155,
   "metadata": {},
   "outputs": [
    {
     "name": "stdout",
     "output_type": "stream",
     "text": [
      "d(P,Q) Jarak Statistik = 1.4814814814814814\n",
      "d(P,Q) Euclidian = 2.23606797749979\n"
     ]
    }
   ],
   "source": [
    "# Create jarak euclidian\n",
    "\n",
    "def euclidian(mat, P, Q, teta, a11, a22, a12):   \n",
    "    nrow = mat.shape[0]\n",
    "    mat_var = matrix_variansi(mat)\n",
    "    \n",
    "    def a(teta):        \n",
    "        pembilang_1 = (np.cos(teta))**2*mat_var[0,0] + 2*np.sin(teta)*np.cos(teta)*mat_var[0,1] + (np.sin(teta))**2*mat_var[1,1]\n",
    "        pembilang_2 = (np.cos(teta))**2*mat_var[1,1] - 2*np.sin(teta)*np.cos(teta)*mat_var[0,1] + (np.sin(teta))**2*mat_var[0,0]\n",
    "        a11 = (((np.cos(teta))**2)/pembilang_1)+(((np.sin(teta))**2)/pembilang_2)\n",
    "        a22 = (((np.sin(teta))**2)/pembilang_1)+(((np.cos(teta))**2)/pembilang_2)\n",
    "        a12 = ((np.cos(teta)*np.sin(teta))/pembilang_1)+((np.cos(teta)*np.sin(teta))/pembilang_2)\n",
    "        return a11, a22, a12\n",
    "    \n",
    "    if a11 > 1:\n",
    "        print(a11 != 0)\n",
    "        a11, a22, a12 = a(teta=teta)\n",
    "        dPQ_jarak_statistik = np.sqrt(a11*((P[0]-Q[0])**2) + 2*a12*(P[0]-Q[0])*(P[1]-Q[1])) + a22*((P[1]-Q[1])**2)\n",
    "        print(f\"d(P,Q) Jarak Statistik = {dPQ_jarak_statistik}\")\n",
    "    else:\n",
    "        dPQ_jarak_statistik = np.sqrt(a11*((P[0]-Q[0])**2) + 2*a12*(P[0]-Q[0])*(P[1]-Q[1])) + a22*((P[1]-Q[1])**2)\n",
    "        print(f\"d(P,Q) Jarak Statistik = {dPQ_jarak_statistik}\")\n",
    "    \n",
    "    dPQ_euclidian = np.sqrt(((P[0]-Q[0])**2)+((P[1]-Q[1])**2))\n",
    "    \n",
    "    \n",
    "    print(f\"d(P,Q) Euclidian = {dPQ_euclidian}\")\n",
    "   \n",
    "\n",
    "P = np.array([-1, -1])\n",
    "Q = np.array([1, 0])\n",
    "mat = np.array([[2,3,4], [1,2,4]])\n",
    "euclidian(mat=mat, P=P, Q=Q, teta=0, a11 = 1/3, a22=4/27, a12=1/9)\n"
   ]
  },
  {
   "cell_type": "code",
   "execution_count": 156,
   "metadata": {},
   "outputs": [
    {
     "name": "stdout",
     "output_type": "stream",
     "text": [
      "1.3877773329774217\n"
     ]
    }
   ],
   "source": [
    "\n",
    "print((2/3)*np.sqrt(13/3)) "
   ]
  }
 ],
 "metadata": {
  "kernelspec": {
   "display_name": "Python 3",
   "language": "python",
   "name": "python3"
  },
  "language_info": {
   "codemirror_mode": {
    "name": "ipython",
    "version": 3
   },
   "file_extension": ".py",
   "mimetype": "text/x-python",
   "name": "python",
   "nbconvert_exporter": "python",
   "pygments_lexer": "ipython3",
   "version": "3.9.18"
  }
 },
 "nbformat": 4,
 "nbformat_minor": 2
}
