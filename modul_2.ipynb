{
 "cells": [
  {
   "cell_type": "code",
   "execution_count": 47,
   "metadata": {},
   "outputs": [],
   "source": [
    "import numpy as np\n",
    "import matplotlib.pyplot as plt\n",
    "import pandas as pd\n",
    "import sympy as sp\n",
    "sp.init_printing(use_unicode=True)"
   ]
  },
  {
   "cell_type": "markdown",
   "metadata": {},
   "source": [
    "# KEGIATAN BELAJAR 1"
   ]
  },
  {
   "cell_type": "code",
   "execution_count": 35,
   "metadata": {},
   "outputs": [],
   "source": [
    "# create matrix covariance function\n",
    "def matrix_variansi(mat, ket):\n",
    "    nrow = mat.shape[0]\n",
    "    ncol = mat.shape[1]\n",
    "    row_means = mat.mean(axis=1)[:, np.newaxis]\n",
    "    if ket == True:\n",
    "        print(f\"Row mean:\")\n",
    "        print(row_means) \n",
    "    s_mat = np.zeros((nrow, nrow))\n",
    "    A = mat-row_means\n",
    "    for row1 in range(nrow):\n",
    "        for row2 in range(nrow):\n",
    "            s_mat[row1,row2]= (np.sum(A[row1,:]*A[row2,:]))/ncol\n",
    "    if ket == True:        \n",
    "        print(\"\")\n",
    "        print(\"Matrix Variansi:\")            \n",
    "    return s_mat"
   ]
  },
  {
   "cell_type": "code",
   "execution_count": 36,
   "metadata": {},
   "outputs": [],
   "source": [
    "# create matrix r correlation function\n",
    "def matrix_r(mat):\n",
    "    nrow = mat.shape[0]\n",
    "    mat_var = matrix_variansi(mat, ket=False)\n",
    "    r_mat = np.zeros((nrow, nrow))\n",
    "    for row in range(nrow):\n",
    "        for col in range(nrow):\n",
    "            r_mat[row,col] = (mat_var[row,col])/((np.sqrt(mat_var[row,row]))*(np.sqrt(mat_var[col,col])))\n",
    "            r_mat[row,col] = np.round(r_mat[row,col],2)\n",
    "    return r_mat"
   ]
  },
  {
   "cell_type": "markdown",
   "metadata": {},
   "source": [
    "## Contoh 2.2"
   ]
  },
  {
   "cell_type": "code",
   "execution_count": 4,
   "metadata": {},
   "outputs": [],
   "source": [
    "mat_modul_2_contoh_2_2 = np.array([[1,4,4],\n",
    "                [2,1,0],\n",
    "                [5,6,4]])\n"
   ]
  },
  {
   "cell_type": "code",
   "execution_count": 37,
   "metadata": {},
   "outputs": [
    {
     "data": {
      "text/plain": [
       "array([[ 2.        , -1.        ,  0.        ],\n",
       "       [-1.        ,  0.66666667,  0.33333333],\n",
       "       [ 0.        ,  0.33333333,  0.66666667]])"
      ]
     },
     "execution_count": 37,
     "metadata": {},
     "output_type": "execute_result"
    }
   ],
   "source": [
    "matrix_variansi(mat=mat_modul_2_contoh_2_2, ket=False)"
   ]
  },
  {
   "cell_type": "code",
   "execution_count": 39,
   "metadata": {},
   "outputs": [
    {
     "data": {
      "text/plain": [
       "array([[ 1.  , -0.87,  0.  ],\n",
       "       [-0.87,  1.  ,  0.5 ],\n",
       "       [ 0.  ,  0.5 ,  1.  ]])"
      ]
     },
     "execution_count": 39,
     "metadata": {},
     "output_type": "execute_result"
    }
   ],
   "source": [
    "matrix_r(mat=mat_modul_2_contoh_2_2)"
   ]
  },
  {
   "cell_type": "markdown",
   "metadata": {},
   "source": [
    "## Tes Formatif 1 No.1"
   ]
  },
  {
   "cell_type": "code",
   "execution_count": 7,
   "metadata": {},
   "outputs": [],
   "source": [
    "mat_modul_2_tesformatif_1_no_1 = np.array([[42,52,48,58],\n",
    "                                          [4,5,4,3]])"
   ]
  },
  {
   "cell_type": "code",
   "execution_count": 8,
   "metadata": {},
   "outputs": [
    {
     "data": {
      "text/plain": [
       "array([[34. , -1.5],\n",
       "       [-1.5,  0.5]])"
      ]
     },
     "execution_count": 8,
     "metadata": {},
     "output_type": "execute_result"
    }
   ],
   "source": [
    "matrix_variansi(mat=mat_modul_2_tesformatif_1_no_1)"
   ]
  },
  {
   "cell_type": "markdown",
   "metadata": {},
   "source": [
    "## Tes Formatif 1 No. 2"
   ]
  },
  {
   "cell_type": "code",
   "execution_count": 9,
   "metadata": {},
   "outputs": [
    {
     "data": {
      "text/plain": [
       "array([[ 1.  , -0.36],\n",
       "       [-0.36,  1.  ]])"
      ]
     },
     "execution_count": 9,
     "metadata": {},
     "output_type": "execute_result"
    }
   ],
   "source": [
    "matrix_r(mat=mat_modul_2_tesformatif_1_no_1)"
   ]
  },
  {
   "cell_type": "markdown",
   "metadata": {},
   "source": [
    "# Jarak"
   ]
  },
  {
   "cell_type": "code",
   "execution_count": 26,
   "metadata": {},
   "outputs": [],
   "source": [
    "# Create jarak euclidian\n",
    "\n",
    "def euclidian(mat, P, Q, teta, a11, a22, a12):   \n",
    "    nrow = mat.shape[0]\n",
    "    mat_var = matrix_variansi(mat)\n",
    "    # print(\"check 1\")\n",
    "    \n",
    "    def a(teta):        \n",
    "        pembilang_1 = (np.cos(teta))**2*mat_var[0,0] + 2*np.sin(teta)*np.cos(teta)*mat_var[0,1] + (np.sin(teta))**2*mat_var[1,1]\n",
    "        pembilang_2 = (np.cos(teta))**2*mat_var[1,1] - 2*np.sin(teta)*np.cos(teta)*mat_var[0,1] + (np.sin(teta))**2*mat_var[0,0]\n",
    "        a11 = (((np.cos(teta))**2)/pembilang_1)+(((np.sin(teta))**2)/pembilang_2)\n",
    "        a22 = (((np.sin(teta))**2)/pembilang_1)+(((np.cos(teta))**2)/pembilang_2)\n",
    "        a12 = ((np.cos(teta)*np.sin(teta))/pembilang_1)+((np.cos(teta)*np.sin(teta))/pembilang_2)\n",
    "        return a11, a22, a12\n",
    "    # print(\"check 2\")\n",
    "    if teta > 0:\n",
    "        print(a11 <= 0)\n",
    "        a11, a22, a12 = a(teta=teta)\n",
    "        print(a11, a22, a12)\n",
    "        dPQ_jarak_statistik = np.sqrt(a11*((P[0]-Q[0])**2) + 2*a12*(P[0]-Q[0])*(P[1]-Q[1])) + a22*((P[1]-Q[1])**2)\n",
    "        print(f\"d(P,Q) Jarak Statistik = {dPQ_jarak_statistik}\")\n",
    "    else:\n",
    "        # print(\"check 3\")\n",
    "        dPQ_jarak_statistik = np.sqrt(a11*((P[0]-Q[0])**2) + 2*a12*(P[0]-Q[0])*(P[1]-Q[1])) + a22*((P[1]-Q[1])**2)\n",
    "        print(f\"d(P,Q) Jarak Statistik = {dPQ_jarak_statistik}\")\n",
    "    \n",
    "    dPQ_euclidian = np.sqrt(((P[0]-Q[0])**2)+((P[1]-Q[1])**2))\n",
    "    \n",
    "    \n",
    "    print(f\"d(P,Q) Euclidian = {dPQ_euclidian}\")\n",
    "   \n",
    "\n",
    "\n"
   ]
  },
  {
   "cell_type": "markdown",
   "metadata": {},
   "source": [
    "## Contoh 2.4"
   ]
  },
  {
   "cell_type": "code",
   "execution_count": 11,
   "metadata": {},
   "outputs": [
    {
     "name": "stdout",
     "output_type": "stream",
     "text": [
      "d(P,Q) Jarak Statistik = 1.4814814814814814\n",
      "d(P,Q) Euclidian = 2.23606797749979\n"
     ]
    }
   ],
   "source": [
    "\n",
    "P = np.array([-1, -1])\n",
    "Q = np.array([1, 0])\n",
    "mat = np.array([[2,3,4], [1,2,4]])\n",
    "euclidian(mat=mat, P=P, Q=Q, teta=0, a11 = 1/3, a22=4/27, a12=1/9)"
   ]
  },
  {
   "cell_type": "code",
   "execution_count": 12,
   "metadata": {},
   "outputs": [
    {
     "data": {
      "image/png": "[encoded data removed]",
      "text/latex": [
       "$\\displaystyle 1.38777733297742$"
      ],
      "text/plain": [
       "1.3877773329774217"
      ]
     },
     "execution_count": 12,
     "metadata": {},
     "output_type": "execute_result"
    }
   ],
   "source": [
    "(2/3)*np.sqrt((13/3))"
   ]
  },
  {
   "cell_type": "code",
   "execution_count": 13,
   "metadata": {},
   "outputs": [
    {
     "data": {
      "image/png": "[encoded data removed]",
      "text/latex": [
       "$\\displaystyle 2.23606797749979$"
      ],
      "text/plain": [
       "2.23606797749979"
      ]
     },
     "execution_count": 13,
     "metadata": {},
     "output_type": "execute_result"
    }
   ],
   "source": [
    "np.sqrt(5)"
   ]
  },
  {
   "cell_type": "markdown",
   "metadata": {},
   "source": [
    "## Tes Formatif 1 Soal 4"
   ]
  },
  {
   "cell_type": "code",
   "execution_count": 14,
   "metadata": {},
   "outputs": [
    {
     "name": "stdout",
     "output_type": "stream",
     "text": [
      "d(P,Q) Jarak Statistik = 0.893504140648078\n",
      "d(P,Q) Euclidian = 1.4142135623730951\n"
     ]
    }
   ],
   "source": [
    "P = np.array([1, 1])\n",
    "Q = np.array([0, 0])\n",
    "mat = np.array([[42,52,48,58], [4,5,4,3]])\n",
    "euclidian(mat=mat, P=P, Q=Q, teta=0, a11 = 1/3, a22=4/27, a12=1/9)"
   ]
  },
  {
   "cell_type": "code",
   "execution_count": 18,
   "metadata": {},
   "outputs": [
    {
     "data": {
      "image/png": "[encoded data removed]",
      "text/latex": [
       "$\\displaystyle 0.838870492807861$"
      ],
      "text/plain": [
       "0.8388704928078611"
      ]
     },
     "execution_count": 18,
     "metadata": {},
     "output_type": "execute_result"
    }
   ],
   "source": [
    "# Jawaban A\n",
    "np.sqrt(19/27)"
   ]
  },
  {
   "cell_type": "markdown",
   "metadata": {},
   "source": [
    "## Tes Formatif 1 Soal 5"
   ]
  },
  {
   "cell_type": "code",
   "execution_count": 27,
   "metadata": {},
   "outputs": [
    {
     "name": "stdout",
     "output_type": "stream",
     "text": [
      "True\n",
      "0.12496741841844079 0.10319674102903198 0.11255652761280069\n",
      "d(P,Q) Jarak Statistik = 0.8584036748555723\n",
      "d(P,Q) Euclidian = 4.47213595499958\n"
     ]
    }
   ],
   "source": [
    "P = np.array([4, -2])\n",
    "Q = np.array([0, 0])\n",
    "mat = np.array([[-6,-3,-2,1,2,5,6,8], [-2,-3,1,-1,2,1,5,3]])\n",
    "euclidian(mat=mat, P=P, Q=Q, teta=26, a11=0, a22=0, a12=0)"
   ]
  },
  {
   "cell_type": "markdown",
   "metadata": {},
   "source": [
    "## Tes Formatif 1 Soal 6"
   ]
  },
  {
   "cell_type": "code",
   "execution_count": 40,
   "metadata": {},
   "outputs": [
    {
     "name": "stdout",
     "output_type": "stream",
     "text": [
      "Row mean:\n",
      "[[48.        ]\n",
      " [ 4.14285714]]\n",
      "\n",
      "Matrix Variansi:\n"
     ]
    },
    {
     "data": {
      "text/plain": [
       "array([[112.        ,   9.14285714],\n",
       "       [  9.14285714,   1.55102041]])"
      ]
     },
     "execution_count": 40,
     "metadata": {},
     "output_type": "execute_result"
    }
   ],
   "source": [
    "mat = np.array([[42,26,52,60,48,50,58],\n",
    "                [4,2,5,6,4,5,3]])\n",
    "\n",
    "matrix_variansi(mat=mat, ket=True)"
   ]
  },
  {
   "cell_type": "code",
   "execution_count": 41,
   "metadata": {},
   "outputs": [
    {
     "data": {
      "text/plain": [
       "array([[1.  , 0.69],\n",
       "       [0.69, 1.  ]])"
      ]
     },
     "execution_count": 41,
     "metadata": {},
     "output_type": "execute_result"
    }
   ],
   "source": [
    "matrix_r(mat=mat)"
   ]
  },
  {
   "cell_type": "markdown",
   "metadata": {},
   "source": [
    "# KEGIATAN BELAJAR 2"
   ]
  },
  {
   "cell_type": "code",
   "execution_count": 56,
   "metadata": {},
   "outputs": [
    {
     "data": {
      "image/png": "[encoded data removed]",
      "text/latex": [
       "$\\displaystyle 0.8$"
      ],
      "text/plain": [
       "0.8"
      ]
     },
     "execution_count": 56,
     "metadata": {},
     "output_type": "execute_result"
    }
   ],
   "source": [
    "def matrix_E_dikrit(X1, X2):\n",
    "    EX1=0\n",
    "    for i in range(len(X1[0,:])):\n",
    "        EX1 += X1[0,i]*X1[1,i]\n",
    "    EX2 = 0\n",
    "    for i in range(len(X2[0,:])):\n",
    "        EX2 += X2[0,i]*X2[1,i]        \n",
    "    \n",
    "    return np.array([EX1, EX2])    \n",
    "\n",
    "def matrix_kovariansi(mat_prob):\n",
    "    df = pd.DataFrame(mat_prob, columns=[\"X1\", \"X2\", \"Probability\"])\n",
    "    cross_tab = pd.crosstab(df['X1'], df['X2'], values=df['Probability'], aggfunc='sum')\n",
    "    cross_tab['p1(x1)'] = cross_tab.sum(axis=1)    \n",
    "    cross_tab = pd.crosstab(df['X1'], df['X2'], values=df['Probability'], aggfunc='sum', margins=True, margins_name='Total')\n",
    "    return cross_tab.loc['Total', 0]  \n",
    "\n",
    "\n",
    "mat_prob = np.array([\n",
    "    [-1, 0, 0.24],\n",
    "    [-1, 1, 0.06],\n",
    "    [0, 0, 0.16],\n",
    "    [0, 1, 0.14],\n",
    "    [1, 0 , 0.4,],\n",
    "    [1, 1, 0.00]\n",
    "])\n",
    "\n",
    "matrix_kovariansi(mat_prob=mat_prob)\n"
   ]
  },
  {
   "cell_type": "markdown",
   "metadata": {},
   "source": [
    "## Contoh 2.5"
   ]
  },
  {
   "cell_type": "code",
   "execution_count": 46,
   "metadata": {},
   "outputs": [
    {
     "data": {
      "text/plain": [
       "array([0.1, 0.2])"
      ]
     },
     "execution_count": 46,
     "metadata": {},
     "output_type": "execute_result"
    }
   ],
   "source": [
    "X1 = np.array([\n",
    "    [-1, 0, 1],\n",
    "    [0.3, 0.3, 0.4]\n",
    "])\n",
    "X2 = np.array([\n",
    "    [0, 1],\n",
    "    [0.8, 0.2]\n",
    "])\n",
    "\n",
    "matrix_E_dikrit(X1=X1, X2=X2)\n"
   ]
  },
  {
   "cell_type": "markdown",
   "metadata": {},
   "source": [
    "## Contoh 2.6"
   ]
  },
  {
   "cell_type": "code",
   "execution_count": null,
   "metadata": {},
   "outputs": [],
   "source": []
  }
 ],
 "metadata": {
  "kernelspec": {
   "display_name": "Python 3",
   "language": "python",
   "name": "python3"
  },
  "language_info": {
   "codemirror_mode": {
    "name": "ipython",
    "version": 3
   },
   "file_extension": ".py",
   "mimetype": "text/x-python",
   "name": "python",
   "nbconvert_exporter": "python",
   "pygments_lexer": "ipython3",
   "version": "3.9.18"
  }
 },
 "nbformat": 4,
 "nbformat_minor": 2
}
